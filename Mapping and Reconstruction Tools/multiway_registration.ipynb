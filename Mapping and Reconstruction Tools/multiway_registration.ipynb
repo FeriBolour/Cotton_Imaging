{
 "cells": [
  {
   "cell_type": "code",
   "execution_count": 1,
   "metadata": {
    "nbsphinx": "hidden"
   },
   "outputs": [
    {
     "name": "stdout",
     "output_type": "stream",
     "text": [
      "Jupyter environment detected. Enabling Open3D WebVisualizer.\n",
      "[Open3D INFO] WebRTC GUI backend enabled.\n",
      "[Open3D INFO] WebRTCWindowSystem: HTTP handshake server disabled.\n"
     ]
    }
   ],
   "source": [
    "import open3d as o3d\n",
    "import numpy as np\n",
    "import os\n",
    "import sys\n",
    "import matplotlib.pyplot as plt\n",
    "# monkey patches visualization and provides helpers to load geometries\n",
    "sys.path.append('..')"
   ]
  },
  {
   "cell_type": "markdown",
   "metadata": {},
   "source": [
    "# Multiway registration\n",
    "Multiway registration is the process of aligning multiple pieces of geometry in a global space. Typically, the input is a set of geometries (e.g., point clouds or RGBD images) $\\{\\mathbf{P}_{i}\\}$. The output is a set of rigid transformations $\\{\\mathbf{T}_{i}\\}$, so that the transformed point clouds $\\{\\mathbf{T}_{i}\\mathbf{P}_{i}\\}$ are aligned in the global space.\n",
    "\n",
    "Open3D implements multiway registration via pose graph optimization. The backend implements the technique presented in [\\[Choi2015\\]](../reference.html#choi2015)."
   ]
  },
  {
   "cell_type": "markdown",
   "metadata": {},
   "source": [
    "## Input\n",
    "The first part of the tutorial code reads three point clouds from files. The point clouds are downsampled and visualized together. They are misaligned."
   ]
  },
  {
   "cell_type": "code",
   "execution_count": 2,
   "metadata": {},
   "outputs": [],
   "source": [
    "def load_point_clouds(voxel_size=0.0):\n",
    "    pcds = []\n",
    "    for i in range(2):\n",
    "        pcd = o3d.io.read_point_cloud(\"PointClouds/Lab_Cam%d.ply\" %\n",
    "                                      (i+1))\n",
    "        pcd_down = pcd.voxel_down_sample(voxel_size=voxel_size)\n",
    "        pcds.append(pcd_down)\n",
    "    return pcds"
   ]
  },
  {
   "cell_type": "code",
   "execution_count": 3,
   "metadata": {},
   "outputs": [],
   "source": [
    "voxel_size = 0.007\n",
    "pcds_down = load_point_clouds(voxel_size)\n",
    "#o3d.visualization.draw_geometries(pcds_down,\n",
    "#                                  zoom=0.3412,\n",
    "#                                  front=[0.4257, -0.2125, -0.8795],\n",
    "#                                  lookat=[2.6172, 2.0475, 1.532],\n",
    "#                                  up=[-0.0694, -0.9768, 0.2024])"
   ]
  },
  {
   "cell_type": "markdown",
   "metadata": {},
   "source": [
    "## Pose graph\n",
    "A pose graph has two key elements: nodes and edges. A node is a piece of geometry $\\mathbf{P}_{i}$ associated with a pose matrix $\\mathbf{T}_{i}$ which transforms $\\mathbf{P}_{i}$ into the global space. The set $\\{\\mathbf{T}_{i}\\}$ are the unknown variables to be optimized. `PoseGraph.nodes` is a list of `PoseGraphNode`. We set the global space to be the space of $\\mathbf{P}_{0}$. Thus $\\mathbf{T}_{0}$ is the identity matrix. The other pose matrices are initialized by accumulating transformation between neighboring nodes. The neighboring nodes usually have large overlap and can be registered with [Point-to-plane ICP](../pipelines/icp_registration.ipynb#point-to-plane-ICP).\n",
    "\n",
    "A pose graph edge connects two nodes (pieces of geometry) that overlap. Each edge contains a transformation matrix $\\mathbf{T}_{i,j}$ that aligns the source geometry $\\mathbf{P}_{i}$ to the target geometry $\\mathbf{P}_{j}$. This tutorial uses [Point-to-plane ICP](../pipelines/icp_registration.ipynb#point-to-plane-ICP) to estimate the transformation. In more complicated cases, this pairwise registration problem should be solved via [Global registration](global_registration.ipynb).\n",
    "\n",
    "[\\[Choi2015\\]](../reference.html#choi2015) has observed that pairwise registration is error-prone. False pairwise alignments can outnumber correctly aligned pairs. Thus, they partition pose graph edges into two classes. **Odometry edges** connect temporally close, neighboring nodes. A local registration algorithm such as ICP can reliably align them. **Loop closure edges** connect any non-neighboring nodes. The alignment is found by global registration and is less reliable. In Open3D, these two classes of edges are distinguished by the `uncertain` parameter in the initializer of `PoseGraphEdge`.\n",
    "\n",
    "In addition to the transformation matrix $\\mathbf{T}_{i}$, the user can set an information matrix $\\mathbf{\\Lambda}_{i}$ for each edge. If $\\mathbf{\\Lambda}_{i}$ is set using function `get_information_matrix_from_point_clouds`, the loss on this pose graph edge approximates the RMSE of the corresponding sets between the two nodes, with a line process weight. Refer to Eq (3) to (9) in [\\[Choi2015\\]](../reference.html#choi2015) and [the Redwood registration benchmark](http://redwood-data.org/indoor/registration.html) for details.\n",
    "\n",
    "The script creates a pose graph with three nodes and three edges. Among the edges, two of them are odometry edges (`uncertain = False`) and one is a loop closure edge (`uncertain = True`)."
   ]
  },
  {
   "cell_type": "code",
   "execution_count": 6,
   "metadata": {},
   "outputs": [],
   "source": [
    "def pairwise_registration(source, target):\n",
    "    print(\"Apply point-to-plane ICP\")\n",
    "    icp_coarse = o3d.pipelines.registration.registration_icp(\n",
    "        source, target, max_correspondence_distance_coarse, np.identity(4),\n",
    "        o3d.pipelines.registration.TransformationEstimationPointToPlane(),\n",
    "        o3d.pipelines.registration.ICPConvergenceCriteria(max_iteration=50))\n",
    "    icp_fine = o3d.pipelines.registration.registration_icp(\n",
    "        source, target, max_correspondence_distance_fine,\n",
    "        icp_coarse.transformation,\n",
    "        o3d.pipelines.registration.TransformationEstimationPointToPlane())\n",
    "    transformation_icp = icp_fine.transformation\n",
    "    information_icp = o3d.pipelines.registration.get_information_matrix_from_point_clouds(\n",
    "        source, target, max_correspondence_distance_fine,\n",
    "        icp_fine.transformation)\n",
    "    return transformation_icp, information_icp\n",
    "\n",
    "\n",
    "def full_registration(pcds, max_correspondence_distance_coarse,\n",
    "                      max_correspondence_distance_fine):\n",
    "    pose_graph = o3d.pipelines.registration.PoseGraph()\n",
    "    odometry = np.identity(4)\n",
    "    pose_graph.nodes.append(o3d.pipelines.registration.PoseGraphNode(odometry))\n",
    "    n_pcds = len(pcds)\n",
    "    for source_id in range(n_pcds):\n",
    "        for target_id in range(source_id + 1, n_pcds):\n",
    "            transformation_icp, information_icp = pairwise_registration(\n",
    "                pcds[source_id], pcds[target_id])\n",
    "            print(\"Build o3d.pipelines.registration.PoseGraph\")\n",
    "            if target_id == source_id + 1:  # odometry case\n",
    "                odometry = np.dot(transformation_icp, odometry)\n",
    "                pose_graph.nodes.append(\n",
    "                    o3d.pipelines.registration.PoseGraphNode(\n",
    "                        np.linalg.inv(odometry)))\n",
    "                pose_graph.edges.append(\n",
    "                    o3d.pipelines.registration.PoseGraphEdge(source_id,\n",
    "                                                             target_id,\n",
    "                                                             transformation_icp,\n",
    "                                                             information_icp,\n",
    "                                                             uncertain=False))\n",
    "            else:  # loop closure case\n",
    "                pose_graph.edges.append(\n",
    "                    o3d.pipelines.registration.PoseGraphEdge(source_id,\n",
    "                                                             target_id,\n",
    "                                                             transformation_icp,\n",
    "                                                             information_icp,\n",
    "                                                             uncertain=True))\n",
    "    return pose_graph"
   ]
  },
  {
   "cell_type": "code",
   "execution_count": 7,
   "metadata": {},
   "outputs": [
    {
     "name": "stdout",
     "output_type": "stream",
     "text": [
      "Full registration ...\n",
      "Apply point-to-plane ICP\n",
      "[Open3D DEBUG] ICP Iteration #0: Fitness 0.4133, RMSE 0.0604\n",
      "[Open3D DEBUG] Residual : 2.50e-03 (# of elements : 166953)\n",
      "[Open3D DEBUG] ICP Iteration #1: Fitness 0.5060, RMSE 0.0583\n",
      "[Open3D DEBUG] Residual : 2.38e-03 (# of elements : 204372)\n",
      "[Open3D DEBUG] ICP Iteration #2: Fitness 0.5747, RMSE 0.0566\n",
      "[Open3D DEBUG] Residual : 2.22e-03 (# of elements : 232151)\n",
      "[Open3D DEBUG] ICP Iteration #3: Fitness 0.6238, RMSE 0.0563\n",
      "[Open3D DEBUG] Residual : 2.13e-03 (# of elements : 251989)\n",
      "[Open3D DEBUG] ICP Iteration #4: Fitness 0.6625, RMSE 0.0554\n",
      "[Open3D DEBUG] Residual : 2.02e-03 (# of elements : 267597)\n",
      "[Open3D DEBUG] ICP Iteration #5: Fitness 0.6997, RMSE 0.0551\n",
      "[Open3D DEBUG] Residual : 1.98e-03 (# of elements : 282635)\n",
      "[Open3D DEBUG] ICP Iteration #6: Fitness 0.7325, RMSE 0.0542\n",
      "[Open3D DEBUG] Residual : 1.89e-03 (# of elements : 295902)\n",
      "[Open3D DEBUG] ICP Iteration #7: Fitness 0.7610, RMSE 0.0534\n",
      "[Open3D DEBUG] Residual : 1.81e-03 (# of elements : 307391)\n",
      "[Open3D DEBUG] ICP Iteration #8: Fitness 0.7803, RMSE 0.0526\n",
      "[Open3D DEBUG] Residual : 1.74e-03 (# of elements : 315204)\n",
      "[Open3D DEBUG] ICP Iteration #9: Fitness 0.7924, RMSE 0.0520\n",
      "[Open3D DEBUG] Residual : 1.69e-03 (# of elements : 320079)\n",
      "[Open3D DEBUG] ICP Iteration #10: Fitness 0.8007, RMSE 0.0517\n",
      "[Open3D DEBUG] Residual : 1.67e-03 (# of elements : 323429)\n",
      "[Open3D DEBUG] ICP Iteration #11: Fitness 0.8051, RMSE 0.0513\n",
      "[Open3D DEBUG] Residual : 1.63e-03 (# of elements : 325216)\n",
      "[Open3D DEBUG] ICP Iteration #12: Fitness 0.8080, RMSE 0.0508\n",
      "[Open3D DEBUG] Residual : 1.59e-03 (# of elements : 326370)\n",
      "[Open3D DEBUG] ICP Iteration #13: Fitness 0.8106, RMSE 0.0503\n",
      "[Open3D DEBUG] Residual : 1.56e-03 (# of elements : 327414)\n",
      "[Open3D DEBUG] ICP Iteration #14: Fitness 0.8142, RMSE 0.0497\n",
      "[Open3D DEBUG] Residual : 1.53e-03 (# of elements : 328869)\n",
      "[Open3D DEBUG] ICP Iteration #15: Fitness 0.8187, RMSE 0.0491\n",
      "[Open3D DEBUG] Residual : 1.50e-03 (# of elements : 330710)\n",
      "[Open3D DEBUG] ICP Iteration #16: Fitness 0.8241, RMSE 0.0485\n",
      "[Open3D DEBUG] Residual : 1.46e-03 (# of elements : 332891)\n",
      "[Open3D DEBUG] ICP Iteration #17: Fitness 0.8340, RMSE 0.0481\n",
      "[Open3D DEBUG] Residual : 1.45e-03 (# of elements : 336884)\n",
      "[Open3D DEBUG] ICP Iteration #18: Fitness 0.8494, RMSE 0.0481\n",
      "[Open3D DEBUG] Residual : 1.44e-03 (# of elements : 343122)\n",
      "[Open3D DEBUG] ICP Iteration #19: Fitness 0.8699, RMSE 0.0482\n",
      "[Open3D DEBUG] Residual : 1.44e-03 (# of elements : 351369)\n",
      "[Open3D DEBUG] ICP Iteration #20: Fitness 0.8927, RMSE 0.0476\n",
      "[Open3D DEBUG] Residual : 1.38e-03 (# of elements : 360592)\n",
      "[Open3D DEBUG] ICP Iteration #21: Fitness 0.9104, RMSE 0.0455\n",
      "[Open3D DEBUG] Residual : 1.24e-03 (# of elements : 367754)\n",
      "[Open3D DEBUG] ICP Iteration #22: Fitness 0.9248, RMSE 0.0425\n",
      "[Open3D DEBUG] Residual : 1.05e-03 (# of elements : 373570)\n",
      "[Open3D DEBUG] ICP Iteration #23: Fitness 0.9341, RMSE 0.0391\n",
      "[Open3D DEBUG] Residual : 8.51e-04 (# of elements : 377334)\n",
      "[Open3D DEBUG] ICP Iteration #24: Fitness 0.9388, RMSE 0.0361\n",
      "[Open3D DEBUG] Residual : 6.87e-04 (# of elements : 379213)\n",
      "[Open3D DEBUG] ICP Iteration #25: Fitness 0.9424, RMSE 0.0339\n",
      "[Open3D DEBUG] Residual : 5.74e-04 (# of elements : 380673)\n",
      "[Open3D DEBUG] ICP Iteration #26: Fitness 0.9443, RMSE 0.0321\n",
      "[Open3D DEBUG] Residual : 4.83e-04 (# of elements : 381420)\n",
      "[Open3D DEBUG] ICP Iteration #27: Fitness 0.9447, RMSE 0.0305\n",
      "[Open3D DEBUG] Residual : 4.11e-04 (# of elements : 381588)\n",
      "[Open3D DEBUG] ICP Iteration #28: Fitness 0.9439, RMSE 0.0293\n",
      "[Open3D DEBUG] Residual : 3.65e-04 (# of elements : 381278)\n",
      "[Open3D DEBUG] ICP Iteration #29: Fitness 0.9430, RMSE 0.0286\n",
      "[Open3D DEBUG] Residual : 3.36e-04 (# of elements : 380898)\n",
      "[Open3D DEBUG] ICP Iteration #30: Fitness 0.9420, RMSE 0.0280\n",
      "[Open3D DEBUG] Residual : 3.18e-04 (# of elements : 380516)\n",
      "[Open3D DEBUG] ICP Iteration #31: Fitness 0.9414, RMSE 0.0277\n",
      "[Open3D DEBUG] Residual : 3.08e-04 (# of elements : 380277)\n",
      "[Open3D DEBUG] ICP Iteration #32: Fitness 0.9409, RMSE 0.0275\n",
      "[Open3D DEBUG] Residual : 3.01e-04 (# of elements : 380062)\n",
      "[Open3D DEBUG] ICP Iteration #33: Fitness 0.9406, RMSE 0.0274\n",
      "[Open3D DEBUG] Residual : 2.97e-04 (# of elements : 379929)\n",
      "[Open3D DEBUG] ICP Iteration #34: Fitness 0.9403, RMSE 0.0273\n",
      "[Open3D DEBUG] Residual : 2.95e-04 (# of elements : 379810)\n",
      "[Open3D DEBUG] ICP Iteration #35: Fitness 0.9400, RMSE 0.0272\n",
      "[Open3D DEBUG] Residual : 2.94e-04 (# of elements : 379719)\n",
      "[Open3D DEBUG] ICP Iteration #36: Fitness 0.9400, RMSE 0.0272\n",
      "[Open3D DEBUG] Residual : 2.93e-04 (# of elements : 379686)\n",
      "[Open3D DEBUG] ICP Iteration #37: Fitness 0.9398, RMSE 0.0272\n",
      "[Open3D DEBUG] Residual : 2.93e-04 (# of elements : 379627)\n",
      "[Open3D DEBUG] ICP Iteration #38: Fitness 0.9397, RMSE 0.0272\n",
      "[Open3D DEBUG] Residual : 2.92e-04 (# of elements : 379575)\n",
      "[Open3D DEBUG] ICP Iteration #39: Fitness 0.9396, RMSE 0.0272\n",
      "[Open3D DEBUG] Residual : 2.92e-04 (# of elements : 379537)\n",
      "[Open3D DEBUG] ICP Iteration #40: Fitness 0.9395, RMSE 0.0272\n",
      "[Open3D DEBUG] Residual : 2.92e-04 (# of elements : 379512)\n",
      "[Open3D DEBUG] ICP Iteration #41: Fitness 0.9395, RMSE 0.0272\n",
      "[Open3D DEBUG] Residual : 2.92e-04 (# of elements : 379493)\n",
      "[Open3D DEBUG] ICP Iteration #42: Fitness 0.9394, RMSE 0.0272\n",
      "[Open3D DEBUG] Residual : 2.92e-04 (# of elements : 379471)\n",
      "[Open3D DEBUG] ICP Iteration #43: Fitness 0.9394, RMSE 0.0272\n",
      "[Open3D DEBUG] Residual : 2.92e-04 (# of elements : 379462)\n",
      "[Open3D DEBUG] ICP Iteration #44: Fitness 0.9394, RMSE 0.0272\n",
      "[Open3D DEBUG] Residual : 2.92e-04 (# of elements : 379455)\n",
      "[Open3D DEBUG] ICP Iteration #45: Fitness 0.9394, RMSE 0.0272\n",
      "[Open3D DEBUG] Residual : 2.92e-04 (# of elements : 379458)\n",
      "[Open3D DEBUG] ICP Iteration #46: Fitness 0.9394, RMSE 0.0272\n",
      "[Open3D DEBUG] Residual : 2.92e-04 (# of elements : 379451)\n",
      "[Open3D DEBUG] ICP Iteration #47: Fitness 0.9394, RMSE 0.0272\n",
      "[Open3D DEBUG] Residual : 2.92e-04 (# of elements : 379450)\n",
      "[Open3D DEBUG] ICP Iteration #48: Fitness 0.9394, RMSE 0.0272\n",
      "[Open3D DEBUG] Residual : 2.92e-04 (# of elements : 379448)\n",
      "[Open3D DEBUG] ICP Iteration #0: Fitness 0.5778, RMSE 0.0052\n",
      "[Open3D DEBUG] Residual : 1.34e-05 (# of elements : 233407)\n",
      "[Open3D DEBUG] ICP Iteration #1: Fitness 0.5836, RMSE 0.0052\n",
      "[Open3D DEBUG] Residual : 1.32e-05 (# of elements : 235738)\n",
      "[Open3D DEBUG] ICP Iteration #2: Fitness 0.5883, RMSE 0.0051\n",
      "[Open3D DEBUG] Residual : 1.31e-05 (# of elements : 237654)\n",
      "[Open3D DEBUG] ICP Iteration #3: Fitness 0.5923, RMSE 0.0051\n",
      "[Open3D DEBUG] Residual : 1.29e-05 (# of elements : 239267)\n",
      "[Open3D DEBUG] ICP Iteration #4: Fitness 0.5961, RMSE 0.0051\n",
      "[Open3D DEBUG] Residual : 1.29e-05 (# of elements : 240787)\n",
      "[Open3D DEBUG] ICP Iteration #5: Fitness 0.5993, RMSE 0.0051\n",
      "[Open3D DEBUG] Residual : 1.28e-05 (# of elements : 242065)\n",
      "[Open3D DEBUG] ICP Iteration #6: Fitness 0.6021, RMSE 0.0051\n",
      "[Open3D DEBUG] Residual : 1.27e-05 (# of elements : 243227)\n",
      "[Open3D DEBUG] ICP Iteration #7: Fitness 0.6044, RMSE 0.0051\n",
      "[Open3D DEBUG] Residual : 1.26e-05 (# of elements : 244132)\n",
      "[Open3D DEBUG] ICP Iteration #8: Fitness 0.6069, RMSE 0.0051\n",
      "[Open3D DEBUG] Residual : 1.26e-05 (# of elements : 245138)\n",
      "[Open3D DEBUG] ICP Iteration #9: Fitness 0.6087, RMSE 0.0051\n",
      "[Open3D DEBUG] Residual : 1.26e-05 (# of elements : 245856)\n",
      "[Open3D DEBUG] ICP Iteration #10: Fitness 0.6101, RMSE 0.0051\n",
      "[Open3D DEBUG] Residual : 1.26e-05 (# of elements : 246451)\n",
      "[Open3D DEBUG] ICP Iteration #11: Fitness 0.6111, RMSE 0.0050\n",
      "[Open3D DEBUG] Residual : 1.25e-05 (# of elements : 246859)\n",
      "[Open3D DEBUG] ICP Iteration #12: Fitness 0.6122, RMSE 0.0050\n",
      "[Open3D DEBUG] Residual : 1.25e-05 (# of elements : 247289)\n",
      "[Open3D DEBUG] ICP Iteration #13: Fitness 0.6130, RMSE 0.0050\n",
      "[Open3D DEBUG] Residual : 1.25e-05 (# of elements : 247593)\n",
      "[Open3D DEBUG] ICP Iteration #14: Fitness 0.6136, RMSE 0.0050\n",
      "[Open3D DEBUG] Residual : 1.24e-05 (# of elements : 247841)\n",
      "[Open3D DEBUG] ICP Iteration #15: Fitness 0.6143, RMSE 0.0050\n",
      "[Open3D DEBUG] Residual : 1.24e-05 (# of elements : 248127)\n",
      "[Open3D DEBUG] ICP Iteration #16: Fitness 0.6148, RMSE 0.0050\n",
      "[Open3D DEBUG] Residual : 1.24e-05 (# of elements : 248353)\n",
      "[Open3D DEBUG] ICP Iteration #17: Fitness 0.6153, RMSE 0.0050\n",
      "[Open3D DEBUG] Residual : 1.24e-05 (# of elements : 248537)\n"
     ]
    },
    {
     "name": "stdout",
     "output_type": "stream",
     "text": [
      "[Open3D DEBUG] ICP Iteration #18: Fitness 0.6156, RMSE 0.0050\n",
      "[Open3D DEBUG] Residual : 1.24e-05 (# of elements : 248665)\n",
      "[Open3D DEBUG] ICP Iteration #19: Fitness 0.6160, RMSE 0.0050\n",
      "[Open3D DEBUG] Residual : 1.24e-05 (# of elements : 248807)\n",
      "[Open3D DEBUG] ICP Iteration #20: Fitness 0.6163, RMSE 0.0050\n",
      "[Open3D DEBUG] Residual : 1.24e-05 (# of elements : 248948)\n",
      "[Open3D DEBUG] ICP Iteration #21: Fitness 0.6164, RMSE 0.0050\n",
      "[Open3D DEBUG] Residual : 1.24e-05 (# of elements : 248989)\n",
      "[Open3D DEBUG] ICP Iteration #22: Fitness 0.6165, RMSE 0.0050\n",
      "[Open3D DEBUG] Residual : 1.24e-05 (# of elements : 249044)\n",
      "[Open3D DEBUG] ICP Iteration #23: Fitness 0.6168, RMSE 0.0050\n",
      "[Open3D DEBUG] Residual : 1.24e-05 (# of elements : 249129)\n",
      "[Open3D DEBUG] ICP Iteration #24: Fitness 0.6167, RMSE 0.0050\n",
      "[Open3D DEBUG] Residual : 1.24e-05 (# of elements : 249093)\n",
      "[Open3D DEBUG] ICP Iteration #25: Fitness 0.6168, RMSE 0.0050\n",
      "[Open3D DEBUG] Residual : 1.24e-05 (# of elements : 249138)\n",
      "[Open3D DEBUG] ICP Iteration #26: Fitness 0.6168, RMSE 0.0050\n",
      "[Open3D DEBUG] Residual : 1.23e-05 (# of elements : 249158)\n",
      "[Open3D DEBUG] ICP Iteration #27: Fitness 0.6170, RMSE 0.0050\n",
      "[Open3D DEBUG] Residual : 1.23e-05 (# of elements : 249220)\n",
      "Build o3d.pipelines.registration.PoseGraph\n"
     ]
    }
   ],
   "source": [
    "print(\"Full registration ...\")\n",
    "max_correspondence_distance_coarse = voxel_size * 15\n",
    "max_correspondence_distance_fine = voxel_size * 1.5\n",
    "with o3d.utility.VerbosityContextManager(\n",
    "        o3d.utility.VerbosityLevel.Debug) as cm:\n",
    "    pose_graph = full_registration(pcds_down,\n",
    "                                   max_correspondence_distance_coarse,\n",
    "                                   max_correspondence_distance_fine)"
   ]
  },
  {
   "cell_type": "markdown",
   "metadata": {},
   "source": [
    "Open3D uses the function `global_optimization` to perform pose graph optimization. Two types of optimization methods can be chosen: `GlobalOptimizationGaussNewton` or `GlobalOptimizationLevenbergMarquardt`. The latter is recommended since it has better convergence property. Class `GlobalOptimizationConvergenceCriteria` can be used to set the maximum number of iterations and various optimization parameters.\n",
    "\n",
    "Class `GlobalOptimizationOption` defines a couple of options. `max_correspondence_distance` decides the correspondence threshold. `edge_prune_threshold` is a threshold for pruning outlier edges. `reference_node` is the node id that is considered to be the global space."
   ]
  },
  {
   "cell_type": "code",
   "execution_count": 8,
   "metadata": {},
   "outputs": [
    {
     "name": "stdout",
     "output_type": "stream",
     "text": [
      "Optimizing PoseGraph ...\n",
      "[Open3D DEBUG] Validating PoseGraph - finished.\n",
      "[Open3D DEBUG] [GlobalOptimizationLM] Optimizing PoseGraph having 2 nodes and 1 edges.\n",
      "[Open3D DEBUG] Line process weight : 27.476505\n",
      "[Open3D DEBUG] [Initial     ] residual : 1.333235e-28, lambda : 6.104590e+00\n",
      "[Open3D DEBUG] Maximum coefficient of right term < 1.000000e-06\n",
      "[Open3D DEBUG] [GlobalOptimizationLM] Optimizing PoseGraph having 2 nodes and 1 edges.\n",
      "[Open3D DEBUG] Line process weight : 27.476505\n",
      "[Open3D DEBUG] [Initial     ] residual : 1.333235e-28, lambda : 6.104590e+00\n",
      "[Open3D DEBUG] Maximum coefficient of right term < 1.000000e-06\n",
      "[Open3D DEBUG] CompensateReferencePoseGraphNode : reference : 0\n"
     ]
    }
   ],
   "source": [
    "print(\"Optimizing PoseGraph ...\")\n",
    "option = o3d.pipelines.registration.GlobalOptimizationOption(\n",
    "    max_correspondence_distance=max_correspondence_distance_fine,\n",
    "    edge_prune_threshold=0.25,\n",
    "    reference_node=0)\n",
    "with o3d.utility.VerbosityContextManager(\n",
    "        o3d.utility.VerbosityLevel.Debug) as cm:\n",
    "    o3d.pipelines.registration.global_optimization(\n",
    "        pose_graph,\n",
    "        o3d.pipelines.registration.GlobalOptimizationLevenbergMarquardt(),\n",
    "        o3d.pipelines.registration.GlobalOptimizationConvergenceCriteria(),\n",
    "        option)"
   ]
  },
  {
   "cell_type": "markdown",
   "metadata": {},
   "source": [
    "The global optimization performs twice on the pose graph. The first pass optimizes poses for the original pose graph taking all edges into account and does its best to distinguish false alignments among uncertain edges. These false alignments have small line process weights, and they are pruned after the first pass. The second pass runs without them and produces a tight global alignment. In this example, all the edges are considered as true alignments, hence the second pass terminates immediately."
   ]
  },
  {
   "cell_type": "markdown",
   "metadata": {},
   "source": [
    "## Visualize optimization\n",
    "The transformed point clouds are listed and visualized using `draw_geometries`."
   ]
  },
  {
   "cell_type": "code",
   "execution_count": 9,
   "metadata": {},
   "outputs": [
    {
     "name": "stdout",
     "output_type": "stream",
     "text": [
      "Transform points and display\n",
      "[[1. 0. 0. 0.]\n",
      " [0. 1. 0. 0.]\n",
      " [0. 0. 1. 0.]\n",
      " [0. 0. 0. 1.]]\n",
      "[[ 0.97430518  0.2215535   0.04053966  0.00774666]\n",
      " [-0.2218662   0.97507144  0.00332751 -0.0050339 ]\n",
      " [-0.03879185 -0.01223639  0.99917239  0.26420299]\n",
      " [ 0.          0.          0.          1.        ]]\n"
     ]
    }
   ],
   "source": [
    "print(\"Transform points and display\")\n",
    "for point_id in range(len(pcds_down)):\n",
    "    print(pose_graph.nodes[point_id].pose)\n",
    "    pcds_down[point_id].transform(pose_graph.nodes[point_id].pose)\n",
    "#o3d.visualization.draw_geometries(pcds_down,\n",
    "#                                  zoom=0.3412,\n",
    "#                                  front=[0.4257, -0.2125, -0.8795],\n",
    "#                                  lookat=[2.6172, 2.0475, 1.532],\n",
    "#                                  up=[-0.0694, -0.9768, 0.2024])"
   ]
  },
  {
   "cell_type": "markdown",
   "metadata": {},
   "source": [
    "## Make a combined point cloud\n",
    "`PointCloud` has a convenience operator `+` that can merge two point clouds into a single one. In the code below, the points are uniformly resampled using `voxel_down_sample` after merging. This is recommended post-processing after merging point clouds since it can relieve duplicated or over-densified points."
   ]
  },
  {
   "cell_type": "code",
   "execution_count": 10,
   "metadata": {},
   "outputs": [
    {
     "data": {
      "text/plain": [
       "True"
      ]
     },
     "execution_count": 10,
     "metadata": {},
     "output_type": "execute_result"
    }
   ],
   "source": [
    "pcds = load_point_clouds(voxel_size)\n",
    "pcd_combined = o3d.geometry.PointCloud()\n",
    "for point_id in range(len(pcds)):\n",
    "    pcds[point_id].transform(pose_graph.nodes[point_id].pose)\n",
    "    pcd_combined += pcds[point_id]\n",
    "#pcd_combined_down = pcd_combined.voxel_down_sample(voxel_size=voxel_size)\n",
    "o3d.io.write_point_cloud(\"PointClouds/Lab_Cam1_Cam2_multiway_registration_0.007.ply\", pcd_combined)\n",
    "#o3d.visualization.draw_geometries([pcd_combined_down],\n",
    "#                                  zoom=0.3412,\n",
    "#                                  front=[0.4257, -0.2125, -0.8795],\n",
    "#                                  lookat=[2.6172, 2.0475, 1.532],\n",
    "#                                  up=[-0.0694, -0.9768, 0.2024])"
   ]
  },
  {
   "cell_type": "markdown",
   "metadata": {},
   "source": [
    "<div class=\"alert alert-info\">\n",
    "    \n",
    "**Note:**\n",
    "\n",
    "Although this tutorial demonstrates multiway registration for point clouds, the same procedure can be applied to RGBD images. See [Make fragments](../reconstruction_system/make_fragments.rst) for an example.\n",
    "\n",
    "</div>"
   ]
  },
  {
   "cell_type": "code",
   "execution_count": 10,
   "metadata": {},
   "outputs": [
    {
     "name": "stdout",
     "output_type": "stream",
     "text": [
      "run Poisson surface reconstruction\n",
      "[Open3D DEBUG] Input Points / Samples: 859049 / 858699\n",
      "[Open3D DEBUG] #   Got kernel density: 5.785 (s), 1298.54 (MB) / 1298.54 (MB) / 3906 (MB)\n",
      "[Open3D DEBUG] #     Got normal field: 5.051 (s), 1564.33 (MB) / 1564.33 (MB) / 3906 (MB)\n",
      "[Open3D DEBUG] Point weight / Estimated Area: 3.712400e-06 / 3.189134e+00\n",
      "[Open3D DEBUG] #       Finalized tree: 7.297 (s), 1772.46 (MB) / 1772.46 (MB) / 3906 (MB)\n",
      "[Open3D DEBUG] #  Set FEM constraints: 10.686 (s), 1545.45 (MB) / 1772.46 (MB) / 3906 (MB)\n",
      "[Open3D DEBUG] #Set point constraints: 2.579 (s), 1395.71 (MB) / 1772.46 (MB) / 3906 (MB)\n",
      "[Open3D DEBUG] Leaf Nodes / Active Nodes / Ghost Nodes: 23368612 / 9099448 / 17607537\n",
      "[Open3D DEBUG] Memory Usage: 1395.730 MB\n",
      "[Open3D DEBUG] # Linear system solved: 19.383 (s), 1619.43 (MB) / 1772.46 (MB) / 3906 (MB)\n",
      "[Open3D DEBUG] Got average: 1.00100 (s), 1471.07 (MB) / 1772.46 (MB) / 3906 (MB)\n",
      "[Open3D DEBUG] Iso-Value: 5.019360e-01 = 4.311876e+05 / 8.590490e+05\n",
      "[Open3D DEBUG] #          Total Solve:      90.2 (s),    2027.6 (MB)\n",
      "TriangleMesh with 2452212 points and 4905961 triangles.\n"
     ]
    }
   ],
   "source": [
    "print('run Poisson surface reconstruction')\n",
    "with o3d.utility.VerbosityContextManager(\n",
    "        o3d.utility.VerbosityLevel.Debug) as cm:\n",
    "    mesh, densities = o3d.geometry.TriangleMesh.create_from_point_cloud_poisson(\n",
    "        pcd_combined, depth=12)\n",
    "print(mesh)\n",
    "o3d.visualization.draw_geometries([mesh],\n",
    "                                  zoom=0.664,\n",
    "                                  front=[-0.4761, -0.4698, -0.7434],\n",
    "                                  lookat=[1.8900, 3.2596, 0.9284],\n",
    "                                  up=[0.2304, -0.8825, 0.4101])"
   ]
  },
  {
   "cell_type": "code",
   "execution_count": 11,
   "metadata": {},
   "outputs": [
    {
     "name": "stdout",
     "output_type": "stream",
     "text": [
      "visualize densities\n"
     ]
    }
   ],
   "source": [
    "print('visualize densities')\n",
    "densities = np.asarray(densities)\n",
    "density_colors = plt.get_cmap('plasma')(\n",
    "    (densities - densities.min()) / (densities.max() - densities.min()))\n",
    "density_colors = density_colors[:, :3]\n",
    "density_mesh = o3d.geometry.TriangleMesh()\n",
    "density_mesh.vertices = mesh.vertices\n",
    "density_mesh.triangles = mesh.triangles\n",
    "density_mesh.triangle_normals = mesh.triangle_normals\n",
    "density_mesh.vertex_colors = o3d.utility.Vector3dVector(density_colors)\n",
    "o3d.visualization.draw_geometries([density_mesh],\n",
    "                                  zoom=0.664,\n",
    "                                  front=[-0.4761, -0.4698, -0.7434],\n",
    "                                  lookat=[1.8900, 3.2596, 0.9284],\n",
    "                                  up=[0.2304, -0.8825, 0.4101])"
   ]
  },
  {
   "cell_type": "code",
   "execution_count": 12,
   "metadata": {},
   "outputs": [
    {
     "name": "stdout",
     "output_type": "stream",
     "text": [
      "remove low density vertices\n",
      "TriangleMesh with 2427689 points and 4851284 triangles.\n"
     ]
    }
   ],
   "source": [
    "print('remove low density vertices')\n",
    "vertices_to_remove = densities < np.quantile(densities, 0.01)\n",
    "mesh.remove_vertices_by_mask(vertices_to_remove)\n",
    "print(mesh)\n",
    "o3d.visualization.draw_geometries([mesh],\n",
    "                                  zoom=0.664,\n",
    "                                  front=[-0.4761, -0.4698, -0.7434],\n",
    "                                  lookat=[1.8900, 3.2596, 0.9284],\n",
    "                                  up=[0.2304, -0.8825, 0.4101])"
   ]
  },
  {
   "cell_type": "code",
   "execution_count": 13,
   "metadata": {},
   "outputs": [
    {
     "data": {
      "text/plain": [
       "True"
      ]
     },
     "execution_count": 13,
     "metadata": {},
     "output_type": "execute_result"
    }
   ],
   "source": [
    "o3d.io.write_triangle_mesh(\"PointClouds/Lab_Cam1_Cam2_multiway_registration_0.007_mesh_orientedNormals.ply\", mesh)"
   ]
  },
  {
   "cell_type": "code",
   "execution_count": null,
   "metadata": {},
   "outputs": [],
   "source": []
  }
 ],
 "metadata": {
  "celltoolbar": "Edit Metadata",
  "kernelspec": {
   "display_name": "Python 3",
   "language": "python",
   "name": "python3"
  },
  "language_info": {
   "codemirror_mode": {
    "name": "ipython",
    "version": 3
   },
   "file_extension": ".py",
   "mimetype": "text/x-python",
   "name": "python",
   "nbconvert_exporter": "python",
   "pygments_lexer": "ipython3",
   "version": "3.7.10"
  }
 },
 "nbformat": 4,
 "nbformat_minor": 2
}
