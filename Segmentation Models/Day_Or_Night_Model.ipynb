{
 "cells": [
  {
   "cell_type": "code",
   "execution_count": 1,
   "id": "3f747b83",
   "metadata": {
    "ExecuteTime": {
     "end_time": "2022-01-30T23:00:38.075160Z",
     "start_time": "2022-01-30T23:00:38.009597Z"
    }
   },
   "outputs": [],
   "source": [
    "import os\n",
    "import glob\n",
    "import cv2\n",
    "import numpy as np\n",
    "import pandas as pd\n",
    "from PIL import Image\n",
    "from pathlib import Path\n",
    "from keras.models import Sequential, Model, load_model\n",
    "from keras.applications.vgg16 import VGG16, preprocess_input\n",
    "from keras.preprocessing.image import ImageDataGenerator, load_img, img_to_array\n",
    "from keras.layers import Conv2D, MaxPooling2D, Dense, Dropout, Input, Flatten, Activation\n",
    "from tensorflow.keras.optimizers import Adam, SGD, RMSprop\n",
    "from keras.callbacks import Callback, EarlyStopping\n",
    "from tensorflow.keras.utils import to_categorical\n",
    "from sklearn.metrics import confusion_matrix, classification_report\n",
    "from sklearn.model_selection import train_test_split\n",
    "from keras import backend as K\n",
    "import tensorflow as tf\n",
    "import matplotlib.pyplot as plt\n",
    "\n",
    "%matplotlib inline"
   ]
  },
  {
   "cell_type": "code",
   "execution_count": 2,
   "id": "460e4852",
   "metadata": {
    "ExecuteTime": {
     "end_time": "2022-01-29T08:19:40.173176Z",
     "start_time": "2022-01-29T08:19:40.089582Z"
    }
   },
   "outputs": [
    {
     "data": {
      "application/javascript": [
       "if (!(\"Notification\" in window)) {\n",
       "    alert(\"This browser does not support desktop notifications, so the %%notify magic will not work.\");\n",
       "} else if (Notification.permission !== 'granted' && Notification.permission !== 'denied') {\n",
       "    Notification.requestPermission(function (permission) {\n",
       "        if(!('permission' in Notification)) {\n",
       "            Notification.permission = permission;\n",
       "        }\n",
       "    })\n",
       "}\n"
      ],
      "text/plain": [
       "<IPython.core.display.Javascript object>"
      ]
     },
     "metadata": {},
     "output_type": "display_data"
    }
   ],
   "source": [
    "import jupyternotify\n",
    "\n",
    "%load_ext autoreload\n",
    "%autoreload 2\n",
    "%matplotlib inline\n",
    "%config IPCompleter.greedy = True\n",
    "\n",
    "ip = get_ipython()\n",
    "ip.register_magics(jupyternotify.JupyterNotifyMagics)\n",
    "%autonotify -a 120"
   ]
  },
  {
   "cell_type": "markdown",
   "id": "9e0d8333",
   "metadata": {},
   "source": [
    "# Preparing Dataset"
   ]
  },
  {
   "cell_type": "code",
   "execution_count": 3,
   "id": "439ea5a7",
   "metadata": {
    "ExecuteTime": {
     "end_time": "2022-01-29T08:19:40.618562Z",
     "start_time": "2022-01-29T08:19:40.564110Z"
    }
   },
   "outputs": [],
   "source": [
    "Night_dir = '/home/avl/Projects/Cotton Imaging Project/Data/Night'\n",
    "Day_dir = '/home/avl/Projects/Cotton Imaging Project/Data/Day'"
   ]
  },
  {
   "cell_type": "code",
   "execution_count": 4,
   "id": "7e5e81b3",
   "metadata": {
    "ExecuteTime": {
     "end_time": "2022-01-30T04:20:12.911513Z",
     "start_time": "2022-01-30T04:20:12.850176Z"
    }
   },
   "outputs": [],
   "source": [
    "def load_data():\n",
    "    # Night_images = []\n",
    "    # Day_images = []\n",
    "    Images = []\n",
    "    Labels = []\n",
    "    \n",
    "    for root, dirs, files in os.walk(Night_dir):\n",
    "        for file in files:\n",
    "             if file.endswith(\".jpg\"):\n",
    "                    #Night_images.append(file)\n",
    "                    Images.append(root + '/' + file)\n",
    "                    Labels.append('Night')\n",
    "                    \n",
    "    for root, dirs, files in os.walk(Day_dir):\n",
    "        for file in files:\n",
    "             if file.endswith(\".jpg\"):\n",
    "                    #Day_images.append(file)\n",
    "                    Images.append(root + '/' + file)\n",
    "                    Labels.append('Day')\n",
    "    \n",
    "    df = pd.DataFrame(Images)\n",
    "    df.columns = ['Images']\n",
    "    df['Labels'] = Labels\n",
    "    df = df.sample(frac=1).reset_index(drop=True)\n",
    "    return df"
   ]
  },
  {
   "cell_type": "code",
   "execution_count": 20,
   "id": "77819293",
   "metadata": {
    "ExecuteTime": {
     "end_time": "2022-01-30T04:20:13.720528Z",
     "start_time": "2022-01-30T04:20:13.614062Z"
    }
   },
   "outputs": [
    {
     "data": {
      "text/plain": [
       "(6362, 2)"
      ]
     },
     "execution_count": 20,
     "metadata": {},
     "output_type": "execute_result"
    }
   ],
   "source": [
    "Data = load_data()\n",
    "Data.shape"
   ]
  },
  {
   "cell_type": "code",
   "execution_count": 21,
   "id": "ca57cdb7",
   "metadata": {
    "ExecuteTime": {
     "end_time": "2022-01-30T04:20:14.726540Z",
     "start_time": "2022-01-30T04:20:14.569481Z"
    }
   },
   "outputs": [
    {
     "data": {
      "text/plain": [
       "<BarContainer object of 2 artists>"
      ]
     },
     "execution_count": 21,
     "metadata": {},
     "output_type": "execute_result"
    },
    {
     "data": {
      "image/png": "[encoded data removed]",
      "text/plain": [
       "<Figure size 432x288 with 1 Axes>"
      ]
     },
     "metadata": {
      "needs_background": "light"
     },
     "output_type": "display_data"
    }
   ],
   "source": [
    "plt.bar(Data['Labels'].value_counts().index, Data['Labels'].value_counts().values)"
   ]
  },
  {
   "cell_type": "code",
   "execution_count": 22,
   "id": "1dccb606",
   "metadata": {
    "ExecuteTime": {
     "end_time": "2022-01-30T04:20:16.323210Z",
     "start_time": "2022-01-30T04:20:16.147014Z"
    }
   },
   "outputs": [
    {
     "data": {
      "text/plain": [
       "Text(0.5, 1.0, 'Train')"
      ]
     },
     "execution_count": 22,
     "metadata": {},
     "output_type": "execute_result"
    },
    {
     "data": {
      "image/png": "[encoded data removed]",
      "text/plain": [
       "<Figure size 432x288 with 1 Axes>"
      ]
     },
     "metadata": {
      "needs_background": "light"
     },
     "output_type": "display_data"
    }
   ],
   "source": [
    "# set aside 20% of train and test data for evaluation\n",
    "train, test = train_test_split(Data, test_size=0.2, shuffle = True)\n",
    "\n",
    "# Use the same function above for the validation set\n",
    "#train, val = train_test_split(train, test_size=0.25, random_state= 8) # 0.25 x 0.8 = 0.2\n",
    "\n",
    "plt.bar(train['Labels'].value_counts().index, train['Labels'].value_counts().values)\n",
    "plt.title(\"Train\")"
   ]
  },
  {
   "cell_type": "code",
   "execution_count": 23,
   "id": "49071429",
   "metadata": {
    "ExecuteTime": {
     "end_time": "2022-01-30T04:20:17.356296Z",
     "start_time": "2022-01-30T04:20:17.202375Z"
    }
   },
   "outputs": [],
   "source": [
    "#plt.bar(val['Labels'].value_counts().index, val['Labels'].value_counts().values)\n",
    "#plt.title(\"Validation\")"
   ]
  },
  {
   "cell_type": "code",
   "execution_count": 24,
   "id": "2f329fac",
   "metadata": {
    "ExecuteTime": {
     "end_time": "2022-01-30T04:20:18.589684Z",
     "start_time": "2022-01-30T04:20:18.427244Z"
    }
   },
   "outputs": [
    {
     "data": {
      "text/plain": [
       "Text(0.5, 1.0, 'Test')"
      ]
     },
     "execution_count": 24,
     "metadata": {},
     "output_type": "execute_result"
    },
    {
     "data": {
      "image/png": "[encoded data removed]",
      "text/plain": [
       "<Figure size 432x288 with 1 Axes>"
      ]
     },
     "metadata": {
      "needs_background": "light"
     },
     "output_type": "display_data"
    }
   ],
   "source": [
    "plt.bar(test['Labels'].value_counts().index, test['Labels'].value_counts().values)\n",
    "plt.title(\"Test\")"
   ]
  },
  {
   "cell_type": "code",
   "execution_count": 25,
   "id": "deccd9fb",
   "metadata": {
    "ExecuteTime": {
     "end_time": "2022-01-30T04:29:28.654942Z",
     "start_time": "2022-01-30T04:29:28.594260Z"
    }
   },
   "outputs": [],
   "source": [
    "def prepare_data(data):\n",
    "    data = data.reset_index()\n",
    "    X = []\n",
    "    Y = []\n",
    "    for i in range(len(data)):\n",
    "        img = cv2.imread(data.loc[i].at['Images'])\n",
    "        img = cv2.resize(img, (224, 224))\n",
    "        img = cv2.cvtColor(img, cv2.COLOR_BGR2RGB)\n",
    "        img = img.astype(np.float32)/255.\n",
    "        if data.loc[i].at['Labels'] == 'Night':\n",
    "            label = to_categorical(0, num_classes=2)\n",
    "        else:\n",
    "            label = to_categorical(1, num_classes=2)\n",
    "        X.append(img)\n",
    "        Y.append(label)\n",
    "    return np.array(X), np.array(Y)"
   ]
  },
  {
   "cell_type": "code",
   "execution_count": 26,
   "id": "d17dd3c7",
   "metadata": {
    "ExecuteTime": {
     "end_time": "2022-01-30T04:32:14.740548Z",
     "start_time": "2022-01-30T04:29:29.194618Z"
    }
   },
   "outputs": [
    {
     "name": "stdout",
     "output_type": "stream",
     "text": [
      "Number of training images: 5089\n"
     ]
    }
   ],
   "source": [
    "X_train, Y_train = prepare_data(train)\n",
    "print(f\"Number of training images: {len(X_train)}\")"
   ]
  },
  {
   "cell_type": "code",
   "execution_count": 27,
   "id": "01521e59",
   "metadata": {
    "ExecuteTime": {
     "end_time": "2022-01-30T04:33:11.672783Z",
     "start_time": "2022-01-30T04:32:14.755695Z"
    }
   },
   "outputs": [],
   "source": [
    "#X_val, Y_val = prepare_data(val)\n",
    "#print(f\"Number of validation images: {len(X_val)}\")"
   ]
  },
  {
   "cell_type": "code",
   "execution_count": 28,
   "id": "f3a2bb07",
   "metadata": {
    "ExecuteTime": {
     "end_time": "2022-01-30T04:34:09.546438Z",
     "start_time": "2022-01-30T04:33:11.674545Z"
    }
   },
   "outputs": [
    {
     "name": "stdout",
     "output_type": "stream",
     "text": [
      "Number of validation images: 1273\n"
     ]
    }
   ],
   "source": [
    "X_test, Y_test = prepare_data(test)\n",
    "print(f\"Number of validation images: {len(X_test)}\")"
   ]
  },
  {
   "cell_type": "markdown",
   "id": "a2b2765c",
   "metadata": {
    "ExecuteTime": {
     "end_time": "2022-01-30T04:34:27.183663Z",
     "start_time": "2022-01-30T04:34:27.121452Z"
    }
   },
   "source": [
    "# Python Model From Scratch"
   ]
  },
  {
   "cell_type": "code",
   "execution_count": 14,
   "id": "7a5b3582",
   "metadata": {
    "ExecuteTime": {
     "end_time": "2022-01-30T04:38:52.012400Z",
     "start_time": "2022-01-30T04:38:51.805782Z"
    }
   },
   "outputs": [
    {
     "name": "stderr",
     "output_type": "stream",
     "text": [
      "2022-01-31 10:28:56.270423: I tensorflow/stream_executor/cuda/cuda_gpu_executor.cc:939] successful NUMA node read from SysFS had negative value (-1), but there must be at least one NUMA node, so returning NUMA node zero\n",
      "2022-01-31 10:28:56.321882: I tensorflow/stream_executor/cuda/cuda_gpu_executor.cc:939] successful NUMA node read from SysFS had negative value (-1), but there must be at least one NUMA node, so returning NUMA node zero\n",
      "2022-01-31 10:28:56.322103: I tensorflow/stream_executor/cuda/cuda_gpu_executor.cc:939] successful NUMA node read from SysFS had negative value (-1), but there must be at least one NUMA node, so returning NUMA node zero\n",
      "2022-01-31 10:28:56.322998: I tensorflow/core/platform/cpu_feature_guard.cc:151] This TensorFlow binary is optimized with oneAPI Deep Neural Network Library (oneDNN) to use the following CPU instructions in performance-critical operations:  AVX2 FMA\n",
      "To enable them in other operations, rebuild TensorFlow with the appropriate compiler flags.\n",
      "2022-01-31 10:28:56.324096: I tensorflow/stream_executor/cuda/cuda_gpu_executor.cc:939] successful NUMA node read from SysFS had negative value (-1), but there must be at least one NUMA node, so returning NUMA node zero\n",
      "2022-01-31 10:28:56.324286: I tensorflow/stream_executor/cuda/cuda_gpu_executor.cc:939] successful NUMA node read from SysFS had negative value (-1), but there must be at least one NUMA node, so returning NUMA node zero\n",
      "2022-01-31 10:28:56.324455: I tensorflow/stream_executor/cuda/cuda_gpu_executor.cc:939] successful NUMA node read from SysFS had negative value (-1), but there must be at least one NUMA node, so returning NUMA node zero\n",
      "2022-01-31 10:28:56.771959: I tensorflow/stream_executor/cuda/cuda_gpu_executor.cc:939] successful NUMA node read from SysFS had negative value (-1), but there must be at least one NUMA node, so returning NUMA node zero\n",
      "2022-01-31 10:28:56.772149: I tensorflow/stream_executor/cuda/cuda_gpu_executor.cc:939] successful NUMA node read from SysFS had negative value (-1), but there must be at least one NUMA node, so returning NUMA node zero\n",
      "2022-01-31 10:28:56.772315: I tensorflow/stream_executor/cuda/cuda_gpu_executor.cc:939] successful NUMA node read from SysFS had negative value (-1), but there must be at least one NUMA node, so returning NUMA node zero\n",
      "2022-01-31 10:28:56.772460: I tensorflow/core/common_runtime/gpu/gpu_device.cc:1525] Created device /job:localhost/replica:0/task:0/device:GPU:0 with 22496 MB memory:  -> device: 0, name: NVIDIA TITAN RTX, pci bus id: 0000:0b:00.0, compute capability: 7.5\n"
     ]
    }
   ],
   "source": [
    "model = Sequential()\n",
    "model.add(Conv2D(32, (3,3), input_shape=(224, 224 ,3)))\n",
    "model.add(Activation('relu'))\n",
    "model.add(MaxPooling2D(pool_size=(2,2)))\n",
    "\n",
    "model.add(Conv2D(32, (3,3)))\n",
    "model.add(Activation('relu'))\n",
    "model.add(MaxPooling2D(pool_size=(2,2)))\n",
    "\n",
    "model.add(Conv2D(64, (3,3)))\n",
    "model.add(Activation('relu'))\n",
    "model.add(MaxPooling2D(pool_size=(2,2)))\n",
    "\n",
    "model.add(Flatten())\n",
    "\n",
    "model.add(Dense(64))\n",
    "model.add(Activation('relu'))\n",
    "model.add(Dense(2))\n",
    "model.add(Activation('softmax'))"
   ]
  },
  {
   "cell_type": "code",
   "execution_count": 29,
   "id": "07227b96",
   "metadata": {
    "ExecuteTime": {
     "end_time": "2022-01-30T04:49:48.396270Z",
     "start_time": "2022-01-30T04:49:48.337193Z"
    }
   },
   "outputs": [
    {
     "name": "stdout",
     "output_type": "stream",
     "text": [
      "Number of training and validation steps = (159, 1273)\n"
     ]
    }
   ],
   "source": [
    "batch_size = 32\n",
    "nb_epochs = 6\n",
    "nb_train_steps = X_train.shape[0]//batch_size\n",
    "print(f\"Number of training and validation steps = {nb_train_steps, len(X_val)}\")"
   ]
  },
  {
   "cell_type": "code",
   "execution_count": 34,
   "id": "f030dfaa",
   "metadata": {
    "ExecuteTime": {
     "end_time": "2022-01-30T05:17:43.576994Z",
     "start_time": "2022-01-30T04:49:53.034443Z"
    }
   },
   "outputs": [
    {
     "name": "stdout",
     "output_type": "stream",
     "text": [
      "Epoch 1/6\n",
      "159/159 [==============================] - 3s 15ms/step - loss: 0.0266 - accuracy: 0.9958\n",
      "Epoch 2/6\n",
      "159/159 [==============================] - 2s 15ms/step - loss: 0.0074 - accuracy: 0.9987\n",
      "Epoch 3/6\n",
      "159/159 [==============================] - 2s 15ms/step - loss: 0.0146 - accuracy: 0.9981\n",
      "Epoch 4/6\n",
      "159/159 [==============================] - 2s 15ms/step - loss: 0.0176 - accuracy: 0.9979\n",
      "Epoch 5/6\n",
      "159/159 [==============================] - 2s 15ms/step - loss: 0.0108 - accuracy: 0.9983\n",
      "Epoch 6/6\n",
      "133/159 [========================>.....] - ETA: 0s - loss: 0.0155 - accuracy: 0.9964WARNING:tensorflow:Your input ran out of data; interrupting training. Make sure that your dataset or generator can generate at least `steps_per_epoch * epochs` batches (in this case, 954 batches). You may need to use the repeat() function when building your dataset.\n",
      "159/159 [==============================] - 2s 13ms/step - loss: 0.0154 - accuracy: 0.9964\n"
     ]
    }
   ],
   "source": [
    "model.compile(loss='binary_crossentropy', optimizer='rmsprop', metrics=['accuracy'])\n",
    "\n",
    "#history = model.fit(X_train, Y_train, epochs=nb_epochs, steps_per_epoch=nb_train_steps, validation_data=(X_val, Y_val))\n",
    "history = model.fit(X_train, Y_train, epochs=nb_epochs, steps_per_epoch=nb_train_steps)"
   ]
  },
  {
   "cell_type": "code",
   "execution_count": 35,
   "id": "2e168cb4",
   "metadata": {
    "ExecuteTime": {
     "end_time": "2022-01-30T05:24:07.325455Z",
     "start_time": "2022-01-30T05:23:48.920300Z"
    }
   },
   "outputs": [
    {
     "name": "stdout",
     "output_type": "stream",
     "text": [
      "40/40 [==============================] - 0s 5ms/step - loss: 0.0401 - accuracy: 0.9921\n"
     ]
    }
   ],
   "source": [
    "score = model.evaluate(X_test, Y_test)"
   ]
  },
  {
   "cell_type": "code",
   "execution_count": 36,
   "id": "d079410f",
   "metadata": {
    "ExecuteTime": {
     "end_time": "2022-01-30T05:27:29.387330Z",
     "start_time": "2022-01-30T05:27:12.783737Z"
    }
   },
   "outputs": [
    {
     "name": "stdout",
     "output_type": "stream",
     "text": [
      "              precision    recall  f1-score   support\n",
      "\n",
      "           0       1.00      0.99      0.99       926\n",
      "           1       0.97      1.00      0.99       347\n",
      "\n",
      "    accuracy                           0.99      1273\n",
      "   macro avg       0.99      0.99      0.99      1273\n",
      "weighted avg       0.99      0.99      0.99      1273\n",
      "\n"
     ]
    }
   ],
   "source": [
    "pred = model.predict(X_test)\n",
    "pred = np.argmax(pred, axis=1)\n",
    "labels = np.argmax(Y_test, axis=1)\n",
    "print(classification_report(labels, pred))"
   ]
  },
  {
   "cell_type": "code",
   "execution_count": 37,
   "id": "80aa7d88",
   "metadata": {
    "ExecuteTime": {
     "end_time": "2022-01-30T05:30:25.982543Z",
     "start_time": "2022-01-30T05:30:25.923775Z"
    }
   },
   "outputs": [],
   "source": [
    "model.save_weights('Model_CNN_99.h5')"
   ]
  },
  {
   "cell_type": "markdown",
   "id": "64603268",
   "metadata": {},
   "source": [
    "# Transfer Learning"
   ]
  },
  {
   "cell_type": "code",
   "execution_count": 17,
   "id": "6a8a5471",
   "metadata": {
    "ExecuteTime": {
     "end_time": "2022-01-30T22:37:59.085377Z",
     "start_time": "2022-01-30T22:37:59.030157Z"
    }
   },
   "outputs": [],
   "source": [
    "def vgg16_model(num_classes=None):\n",
    "    \n",
    "    model = VGG16(weights= \"imagenet\", include_top = True, input_shape=(224, 224, 3))\n",
    "    \n",
    "    x= Dense(1024, activation='relu')(model.layers[-4].output)\n",
    "    x= Dropout(0.7)(x)\n",
    "    x= Dense(512, activation='relu')(x)\n",
    "    x= Dropout(0.5)(x)\n",
    "    x= Dense(2, activation='relu')(x)\n",
    "    model = Model(model.input, x)\n",
    "    \n",
    "    return model"
   ]
  },
  {
   "cell_type": "code",
   "execution_count": 18,
   "id": "e712b7c6",
   "metadata": {
    "ExecuteTime": {
     "end_time": "2022-01-30T22:40:54.988739Z",
     "start_time": "2022-01-30T22:40:51.644952Z"
    }
   },
   "outputs": [
    {
     "name": "stderr",
     "output_type": "stream",
     "text": [
      "2022-01-30 18:03:58.915926: I tensorflow/stream_executor/cuda/cuda_gpu_executor.cc:939] successful NUMA node read from SysFS had negative value (-1), but there must be at least one NUMA node, so returning NUMA node zero\n",
      "2022-01-30 18:03:58.940690: I tensorflow/stream_executor/cuda/cuda_gpu_executor.cc:939] successful NUMA node read from SysFS had negative value (-1), but there must be at least one NUMA node, so returning NUMA node zero\n",
      "2022-01-30 18:03:58.940912: I tensorflow/stream_executor/cuda/cuda_gpu_executor.cc:939] successful NUMA node read from SysFS had negative value (-1), but there must be at least one NUMA node, so returning NUMA node zero\n",
      "2022-01-30 18:03:58.941545: I tensorflow/core/platform/cpu_feature_guard.cc:151] This TensorFlow binary is optimized with oneAPI Deep Neural Network Library (oneDNN) to use the following CPU instructions in performance-critical operations:  AVX2 FMA\n",
      "To enable them in other operations, rebuild TensorFlow with the appropriate compiler flags.\n",
      "2022-01-30 18:03:58.942532: I tensorflow/stream_executor/cuda/cuda_gpu_executor.cc:939] successful NUMA node read from SysFS had negative value (-1), but there must be at least one NUMA node, so returning NUMA node zero\n",
      "2022-01-30 18:03:58.942721: I tensorflow/stream_executor/cuda/cuda_gpu_executor.cc:939] successful NUMA node read from SysFS had negative value (-1), but there must be at least one NUMA node, so returning NUMA node zero\n",
      "2022-01-30 18:03:58.942890: I tensorflow/stream_executor/cuda/cuda_gpu_executor.cc:939] successful NUMA node read from SysFS had negative value (-1), but there must be at least one NUMA node, so returning NUMA node zero\n",
      "2022-01-30 18:03:59.212108: I tensorflow/stream_executor/cuda/cuda_gpu_executor.cc:939] successful NUMA node read from SysFS had negative value (-1), but there must be at least one NUMA node, so returning NUMA node zero\n",
      "2022-01-30 18:03:59.212306: I tensorflow/stream_executor/cuda/cuda_gpu_executor.cc:939] successful NUMA node read from SysFS had negative value (-1), but there must be at least one NUMA node, so returning NUMA node zero\n",
      "2022-01-30 18:03:59.212466: I tensorflow/stream_executor/cuda/cuda_gpu_executor.cc:939] successful NUMA node read from SysFS had negative value (-1), but there must be at least one NUMA node, so returning NUMA node zero\n",
      "2022-01-30 18:03:59.212613: I tensorflow/core/common_runtime/gpu/gpu_device.cc:1525] Created device /job:localhost/replica:0/task:0/device:GPU:0 with 22509 MB memory:  -> device: 0, name: NVIDIA TITAN RTX, pci bus id: 0000:0b:00.0, compute capability: 7.5\n"
     ]
    },
    {
     "name": "stdout",
     "output_type": "stream",
     "text": [
      "Downloading data from https://storage.googleapis.com/tensorflow/keras-applications/vgg16/vgg16_weights_tf_dim_ordering_tf_kernels.h5\n",
      "553467904/553467096 [==============================] - 48s 0us/step\n",
      "553476096/553467096 [==============================] - 48s 0us/step\n"
     ]
    }
   ],
   "source": [
    "vgg_conv = vgg16_model(2)\n",
    "for layer in vgg_conv.layers[:10]:\n",
    "    layer.trainable = False"
   ]
  },
  {
   "cell_type": "code",
   "execution_count": 20,
   "id": "6750ab31",
   "metadata": {
    "ExecuteTime": {
     "end_time": "2022-01-30T23:00:48.829018Z",
     "start_time": "2022-01-30T23:00:48.763601Z"
    }
   },
   "outputs": [],
   "source": [
    "opt = Adam(learning_rate=0.0001, decay=1e-5)\n",
    "vgg_conv.compile(loss='binary_crossentropy', optimizer=opt, metrics=['accuracy'])"
   ]
  },
  {
   "cell_type": "code",
   "execution_count": 23,
   "id": "5a5de3de",
   "metadata": {
    "ExecuteTime": {
     "end_time": "2022-01-30T23:03:54.264156Z",
     "start_time": "2022-01-30T23:02:56.487617Z"
    }
   },
   "outputs": [
    {
     "name": "stdout",
     "output_type": "stream",
     "text": [
      "Epoch 1/6\n"
     ]
    },
    {
     "name": "stderr",
     "output_type": "stream",
     "text": [
      "2022-01-30 18:05:24.952514: I tensorflow/stream_executor/cuda/cuda_dnn.cc:366] Loaded cuDNN version 8204\n",
      "2022-01-30 18:05:25.473294: W tensorflow/stream_executor/gpu/asm_compiler.cc:111] *** WARNING *** You are using ptxas 10.1.243, which is older than 11.1. ptxas before 11.1 is known to miscompile XLA code, leading to incorrect results or invalid-address errors.\n",
      "\n",
      "You may not need to update to CUDA 11.1; cherry-picking the ptxas binary is often sufficient.\n"
     ]
    },
    {
     "name": "stdout",
     "output_type": "stream",
     "text": [
      "119/119 [==============================] - 23s 153ms/step - loss: 10.0427 - accuracy: 0.6437 - val_loss: 4.3373 - val_accuracy: 0.7172\n",
      "Epoch 2/6\n",
      "119/119 [==============================] - 12s 99ms/step - loss: 10.3865 - accuracy: 0.7188 - val_loss: 4.3373 - val_accuracy: 0.7172\n",
      "Epoch 3/6\n",
      "119/119 [==============================] - 12s 100ms/step - loss: 10.6490 - accuracy: 0.7216 - val_loss: 4.3373 - val_accuracy: 0.7172\n",
      "Epoch 4/6\n",
      "119/119 [==============================] - 12s 99ms/step - loss: 10.4441 - accuracy: 0.7264 - val_loss: 4.3373 - val_accuracy: 0.7172\n",
      "Epoch 5/6\n",
      "119/119 [==============================] - 12s 100ms/step - loss: 10.6775 - accuracy: 0.7213 - val_loss: 4.3373 - val_accuracy: 0.7172\n",
      "Epoch 6/6\n",
      "101/119 [========================>.....] - ETA: 1s - loss: 10.5334 - accuracy: 0.7260WARNING:tensorflow:Your input ran out of data; interrupting training. Make sure that your dataset or generator can generate at least `steps_per_epoch * epochs` batches (in this case, 714 batches). You may need to use the repeat() function when building your dataset.\n",
      "119/119 [==============================] - 10s 88ms/step - loss: 10.5334 - accuracy: 0.7260 - val_loss: 4.3373 - val_accuracy: 0.7172\n"
     ]
    }
   ],
   "source": [
    "history = vgg_conv.fit(X_train, Y_train, epochs=nb_epochs, steps_per_epoch=nb_train_steps, validation_data=(X_val, Y_val), class_weight={0:1, 1:2.5})"
   ]
  },
  {
   "cell_type": "code",
   "execution_count": null,
   "id": "2a5036fe",
   "metadata": {},
   "outputs": [],
   "source": [
    "loss, acc = vgg_conv.evaluate(X_test, Y_test, batch_size= 32)\n",
    "print(f'Loss = {loss}\\nAccuracu = {acc}' )"
   ]
  },
  {
   "cell_type": "code",
   "execution_count": null,
   "id": "93f69bc9",
   "metadata": {},
   "outputs": [],
   "source": [
    "pred = vgg_conv.predict(X_test)\n",
    "pred = np.argmax(pred, axis=1)\n",
    "labels = np.argmax(Y_test, axis=1)\n",
    "print(classification_report(labels, pred))"
   ]
  },
  {
   "cell_type": "code",
   "execution_count": null,
   "id": "52adce7d",
   "metadata": {},
   "outputs": [],
   "source": [
    "cm = confusion_matrix(labels, pred)\n",
    "sns.heatmap(cm, annot=True, fmt='g', xticklabels=['Night', 'Day'], yticklabels=['Night', 'Day'])"
   ]
  }
 ],
 "metadata": {
  "kernelspec": {
   "display_name": "Python 3 (ipykernel)",
   "language": "python",
   "name": "python3"
  },
  "language_info": {
   "codemirror_mode": {
    "name": "ipython",
    "version": 3
   },
   "file_extension": ".py",
   "mimetype": "text/x-python",
   "name": "python",
   "nbconvert_exporter": "python",
   "pygments_lexer": "ipython3",
   "version": "3.8.10"
  },
  "toc": {
   "base_numbering": 1,
   "nav_menu": {},
   "number_sections": true,
   "sideBar": true,
   "skip_h1_title": false,
   "title_cell": "Table of Contents",
   "title_sidebar": "Contents",
   "toc_cell": false,
   "toc_position": {},
   "toc_section_display": true,
   "toc_window_display": false
  }
 },
 "nbformat": 4,
 "nbformat_minor": 5
}
